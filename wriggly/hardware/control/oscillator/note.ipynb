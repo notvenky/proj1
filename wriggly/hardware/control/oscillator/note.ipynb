{
 "cells": [
  {
   "cell_type": "code",
   "execution_count": 4,
   "metadata": {},
   "outputs": [
    {
     "name": "stdout",
     "output_type": "stream",
     "text": [
      "[ 2.50245121 -1.42542091 -0.80393396  1.53415523 -0.67129733]\n",
      "[ 2.33007453 -1.24594429 -0.61749971  1.33089196 -0.47146435]\n",
      "[ 2.14212125 -1.05026529 -0.42965421  1.13169904 -0.27060238]\n",
      "[ 1.94460924 -0.85387539 -0.24236948  0.93046112 -0.07800598]\n",
      "[ 1.74461277 -0.65406198 -0.06322559  0.73064174 -0.12812778]\n"
     ]
    }
   ],
   "source": [
    "import pickle\n",
    "\n",
    "# Replace 'your_file.pkl' with your pickle file's name\n",
    "pickle_file = 'observations_0.pkl'\n",
    "\n",
    "# Open the file and load the data\n",
    "with open(pickle_file, 'rb') as file:\n",
    "    data = pickle.load(file)\n",
    "\n",
    "# Print out the first few rows of the data\n",
    "# Replace '5' with the number of rows you want to see\n",
    "for row in data[:5]:\n",
    "    print(row)"
   ]
  }
 ],
 "metadata": {
  "kernelspec": {
   "display_name": "wriggly",
   "language": "python",
   "name": "python3"
  },
  "language_info": {
   "codemirror_mode": {
    "name": "ipython",
    "version": 3
   },
   "file_extension": ".py",
   "mimetype": "text/x-python",
   "name": "python",
   "nbconvert_exporter": "python",
   "pygments_lexer": "ipython3",
   "version": "3.10.11"
  }
 },
 "nbformat": 4,
 "nbformat_minor": 2
}
